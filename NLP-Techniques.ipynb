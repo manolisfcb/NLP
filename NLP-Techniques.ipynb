{
 "cells": [
  {
   "cell_type": "markdown",
   "metadata": {
    "collapsed": true,
    "pycharm": {
     "name": "#%% md\n"
    }
   },
   "source": [
    "## NLP Techniques\n",
    "### Para comenzar a usa tecnicas de Procesamiento de lenguaje natural es necesario tener en cuenta 3 aspectos:\n",
    "1- Entradas:\n",
    "    Las entradas para este proceso deben ser datos limpios, y luego de que se halla realizado un EDA Satisfactorio\n",
    "\n",
    "2- Tecnicas de procesamiento de lenguaje natural. Como analisis de sentimiento, tipo de texto,topicos y generacion de texto...\n",
    "\n",
    "3- Salidas: Informacion adicional que ayudará en el proceso de entender y responder la pregunta inicial\n"
   ]
  },
  {
   "cell_type": "code",
   "execution_count": null,
   "outputs": [],
   "source": [],
   "metadata": {
    "collapsed": false,
    "pycharm": {
     "name": "#%%\n"
    }
   }
  }
 ],
 "metadata": {
  "kernelspec": {
   "display_name": "Python 3",
   "language": "python",
   "name": "python3"
  },
  "language_info": {
   "codemirror_mode": {
    "name": "ipython",
    "version": 2
   },
   "file_extension": ".py",
   "mimetype": "text/x-python",
   "name": "python",
   "nbconvert_exporter": "python",
   "pygments_lexer": "ipython2",
   "version": "2.7.6"
  }
 },
 "nbformat": 4,
 "nbformat_minor": 0
}